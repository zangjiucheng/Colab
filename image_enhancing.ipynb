{
  "nbformat": 4,
  "nbformat_minor": 0,
  "metadata": {
    "colab": {
      "provenance": [],
      "authorship_tag": "ABX9TyMtMLeXZ4V0pNsjDi200Pe2",
      "include_colab_link": true
    },
    "kernelspec": {
      "name": "python3",
      "display_name": "Python 3"
    },
    "language_info": {
      "name": "python"
    },
    "accelerator": "GPU",
    "gpuClass": "standard"
  },
  "cells": [
    {
      "cell_type": "markdown",
      "metadata": {
        "id": "view-in-github",
        "colab_type": "text"
      },
      "source": [
        "<a href=\"https://colab.research.google.com/github/zangjiucheng/Colab/blob/main/image_enhancing.ipynb\" target=\"_parent\"><img src=\"https://colab.research.google.com/assets/colab-badge.svg\" alt=\"Open In Colab\"/></a>"
      ]
    },
    {
      "cell_type": "code",
      "execution_count": null,
      "metadata": {
        "colab": {
          "base_uri": "https://localhost:8080/"
        },
        "id": "jHKrAjmd5VEq",
        "outputId": "6682b3b9-8612-4f0d-ca8c-e61ab1a835a3"
      },
      "outputs": [
        {
          "output_type": "stream",
          "name": "stdout",
          "text": [
            "before\n",
            "Hello\n"
          ]
        }
      ],
      "source": [
        "import tensorflow_hub as hub\n",
        "import tensorflow as tf\n",
        "import matplotlib.pyplot as plt\n",
        "from PIL import Image\n",
        "import numpy as np\n",
        "# import  matplotlib\n",
        "# matplotlib.use('TkAgg')\n",
        "model = hub.load(\"https://tfhub.dev/captain-pool/esrgan-tf2/1\")\n",
        "\n",
        "def save_img(image):\n",
        "    if not isinstance(image, Image.Image):\n",
        "        image = tf.clip_by_value(image, 0, 255)\n",
        "        image = Image.fromarray(tf.cast(image, tf.uint8).numpy())\n",
        "    image.save(\"%s.jpg\" % \"super\")\n",
        "# To add an extra dimension for batch, use tf.expand_dims()\n",
        "\n",
        "hr_image = tf.image.decode_image(tf.io.read_file(\"image.jpeg\"))\n",
        "if hr_image.shape[-1] == 4:\n",
        "    hr_image = hr_image[...,:-1]\n",
        "hr_size = (tf.convert_to_tensor(hr_image.shape[:-1]) // 4) * 4\n",
        "hr_image = tf.image.crop_to_bounding_box(hr_image, 0, 0, hr_size[0], hr_size[1])\n",
        "hr_image = tf.cast(hr_image, tf.float32)\n",
        "hr_image = tf.expand_dims(hr_image, 0)\n",
        "low_resolution_image = hr_image # Low Resolution Image of shape [batch_size, height, width, 3]\n",
        "print(\"before\")\n",
        "super_resolution = model(low_resolution_image) # Perform Super Resolution here\n",
        "super_resolution= tf.squeeze(super_resolution)\n",
        "# image = np.asarray(super_resolution)\n",
        "# image = tf.clip_by_value(image, 0, 255)\n",
        "# output_overlay = Image.fromarray(tf.cast(image, tf.uint8).numpy())\n",
        "# plt.imshow(output_overlay)\n",
        "# plt.axis(\"off\")\n",
        "# plt.title(\"super\")\n",
        "print(\"Hello\")\n",
        "save_img(super_resolution)\n"
      ]
    },
    {
      "cell_type": "code",
      "source": [],
      "metadata": {
        "id": "1pl8Pf7W5Z0J"
      },
      "execution_count": null,
      "outputs": []
    }
  ]
}